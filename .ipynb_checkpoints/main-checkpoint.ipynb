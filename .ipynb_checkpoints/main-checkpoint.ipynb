{
 "cells": [
  {
   "cell_type": "markdown",
   "id": "1cea32b1-68e9-4e64-821c-469a4f055509",
   "metadata": {},
   "source": [
    "# NASDAQ stock price predictor\n"
   ]
  },
  {
   "cell_type": "markdown",
   "id": "9ac924fc-7d52-48ee-a111-4a77bf1faa31",
   "metadata": {},
   "source": [
    "The goal of this project is to explore the feasibility to predict nasdaq stock price movements"
   ]
  },
  {
   "cell_type": "markdown",
   "id": "60e5b135-65cb-405f-ab89-5ee6da8d9f3b",
   "metadata": {},
   "source": [
    "## Imports"
   ]
  },
  {
   "cell_type": "code",
   "execution_count": null,
   "id": "e13c3008-153d-4687-812a-15d5ab4d2633",
   "metadata": {},
   "outputs": [],
   "source": [
    "import os\n",
    "\n",
    "%matplotlib inline\n",
    "import string\n",
    "import sys\n",
    "\n",
    "import matplotlib.pyplot as plt\n",
    "import numpy as np\n",
    "import pandas as pd\n",
    "\n",
    "import os\n",
    "import re\n",
    "import sys\n",
    "from hashlib import sha1\n",
    "\n",
    "import matplotlib.pyplot as plt\n",
    "import numpy as np\n",
    "import pandas as pd\n",
    "import sklearn"
   ]
  },
  {
   "cell_type": "markdown",
   "id": "73ffaae7-c3fc-4bd2-a88b-a3855413d743",
   "metadata": {},
   "source": [
    "# Dataset\n"
   ]
  },
  {
   "cell_type": "markdown",
   "id": "dd1f03da-3ed5-4f19-af1d-9b6207495b76",
   "metadata": {},
   "source": [
    "Our analysis will be done on the QQQ's\n"
   ]
  },
  {
   "cell_type": "code",
   "execution_count": null,
   "id": "98a5305d-7f71-46b8-951e-ba2a0a31beeb",
   "metadata": {},
   "outputs": [],
   "source": []
  }
 ],
 "metadata": {
  "kernelspec": {
   "display_name": "stock",
   "language": "python",
   "name": "stock"
  },
  "language_info": {
   "codemirror_mode": {
    "name": "ipython",
    "version": 3
   },
   "file_extension": ".py",
   "mimetype": "text/x-python",
   "name": "python",
   "nbconvert_exporter": "python",
   "pygments_lexer": "ipython3",
   "version": "3.9.5"
  }
 },
 "nbformat": 4,
 "nbformat_minor": 5
}
